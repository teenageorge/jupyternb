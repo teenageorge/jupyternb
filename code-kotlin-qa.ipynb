{
 "cells": [
  {
   "cell_type": "code",
   "id": "initial_id",
   "metadata": {
    "collapsed": true
   },
   "source": [
    "!pip install virtualenv\n",
    "!virtualenv langchain-env-java\n",
    "!source langchain-env-java/bin/activate"
   ],
   "outputs": [],
   "execution_count": null
  },
  {
   "metadata": {},
   "cell_type": "code",
   "source": [
    "!pip install langchain\n",
    "!pip install langchain-pinecone\n",
    "!pip install sentence_transformers\n",
    "!pip install tiktoken\n",
    "!pip install GitPython\n",
    "!pip install python-dotenv\n",
    "!pip install langchain_community\n",
    "!pip install langchain_openai"
   ],
   "id": "2878edbbeac43e40",
   "outputs": [],
   "execution_count": null
  },
  {
   "metadata": {},
   "cell_type": "code",
   "source": [
    "import dotenv\n",
    "\n",
    "dotenv.load_dotenv()"
   ],
   "id": "581ac1e992e606d0",
   "outputs": [],
   "execution_count": null
  },
  {
   "metadata": {},
   "cell_type": "code",
   "source": [
    "from git import Repo\n",
    "from langchain_community.document_loaders.generic import GenericLoader\n",
    "from langchain_community.document_loaders.parsers import LanguageParser\n",
    "from langchain_text_splitters import Language"
   ],
   "id": "8dd818ebfa8dbe1",
   "outputs": [],
   "execution_count": null
  },
  {
   "metadata": {},
   "cell_type": "code",
   "source": [
    "# Clone the repo\n",
    "repo_path = \"./large-projects-with-custom-gradle-plugins/\"\n",
    "repo = Repo.clone_from(\"https://github.com/teenageorge/large-projects-with-custom-gradle-plugins\", to_path=repo_path)"
   ],
   "id": "a5b988cb6d8e054c",
   "outputs": [],
   "execution_count": null
  },
  {
   "metadata": {},
   "cell_type": "code",
   "source": [
    "# Load .py files from path using LanguageParser\n",
    "\n",
    "loader = GenericLoader.from_filesystem(\n",
    "    repo_path + \"/consumer-service/\",\n",
    "    glob=\"**/*\",\n",
    "    suffixes=[\".kt\", \".kts\"],\n",
    "    parser=LanguageParser(language=\"kotlin\", parser_threshold=500),\n",
    ")\n",
    "documents = loader.load()\n",
    "len(documents)"
   ],
   "id": "2a92213f04c8b34a",
   "outputs": [],
   "execution_count": null
  },
  {
   "metadata": {},
   "cell_type": "code",
   "source": [
    "## Index\n",
    "from langchain_openai import OpenAIEmbeddings\n",
    "from langchain.text_splitter import RecursiveCharacterTextSplitter\n",
    "\n",
    "kotlin_splitter = RecursiveCharacterTextSplitter.from_language(\n",
    "    language=\"kotlin\", chunk_size=2000, chunk_overlap=200\n",
    ")\n",
    "texts = kotlin_splitter.split_documents(documents)\n",
    "len(texts)\n",
    "\n",
    "embeddings = OpenAIEmbeddings(disallowed_special=())"
   ],
   "id": "fc10ef0ea4036a4f",
   "outputs": [],
   "execution_count": null
  },
  {
   "metadata": {},
   "cell_type": "code",
   "source": [
    "# Vector storage\n",
    "from langchain_pinecone import PineconeVectorStore\n",
    "index_name = \"consumer-service-index\"\n",
    "db = PineconeVectorStore.from_documents(texts, embeddings, index_name=index_name)"
   ],
   "id": "e95830ebb2411284",
   "outputs": [],
   "execution_count": null
  },
  {
   "metadata": {},
   "cell_type": "code",
   "source": [
    "retriever = db.as_retriever(\n",
    "    search_type=\"mmr\",  # You can also experiment with \"similarity\"\n",
    "    search_kwargs={\"k\": 8},\n",
    ")"
   ],
   "id": "6bbdcf7006571556",
   "outputs": [],
   "execution_count": null
  },
  {
   "metadata": {},
   "cell_type": "code",
   "source": [
    "# setup agent\n",
    "from langchain_openai.chat_models import ChatOpenAI\n",
    "from langchain_core.prompts import ChatPromptTemplate\n",
    "from langchain.chains.combine_documents import create_stuff_documents_chain\n",
    "from langchain.chains import create_history_aware_retriever, create_retrieval_chain\n",
    "from langchain_core.output_parsers import StrOutputParser\n",
    "\n",
    "llm = ChatOpenAI(temperature=0, model=\"gpt-4o\")\n",
    "\n",
    "prompt = ChatPromptTemplate.from_messages(\n",
    "    [\n",
    "        (\"placeholder\", \"{chat_history}\"),\n",
    "        (\"user\", \"{input}\"),\n",
    "        (\n",
    "            \"user\",\n",
    "            \"Given the above conversation, generate a search query to look up to get information relevant to the conversation\",\n",
    "        ),\n",
    "    ]\n",
    ")\n",
    "\n",
    "retriever_chain = create_history_aware_retriever(llm, retriever, prompt)\n",
    "\n",
    "prompt = ChatPromptTemplate.from_messages(\n",
    "    [\n",
    "        (\n",
    "            \"system\",\n",
    "            \"Answer the user's questions based on the below context:\\n\\n{context}\",\n",
    "        ),\n",
    "        (\"placeholder\", \"{chat_history}\"),\n",
    "        (\"user\", \"{input}\"),\n",
    "    ]\n",
    ")\n",
    "document_chain = create_stuff_documents_chain(llm, prompt)\n",
    "\n",
    "qa = create_retrieval_chain(retriever_chain, document_chain)\n",
    "\n",
    "chat_history = []\n",
    "\n",
    "question = \"Explain functions in ConsumerController.kt. If it has references to other functions in me.teenageorge package, extend the explanation of the functions.\"\n",
    "result = qa.invoke({\"input\": question})\n",
    "\n",
    "chat_history.append(result[\"answer\"])\n",
    "\n",
    "print(result[\"answer\"])"
   ],
   "id": "ae512e3b971c7e1c",
   "outputs": [],
   "execution_count": null
  },
  {
   "metadata": {},
   "cell_type": "code",
   "source": "",
   "id": "b5ed6ea11ffab579",
   "outputs": [],
   "execution_count": null
  }
 ],
 "metadata": {
  "kernelspec": {
   "display_name": "Python 3",
   "language": "python",
   "name": "python3"
  },
  "language_info": {
   "codemirror_mode": {
    "name": "ipython",
    "version": 2
   },
   "file_extension": ".py",
   "mimetype": "text/x-python",
   "name": "python",
   "nbconvert_exporter": "python",
   "pygments_lexer": "ipython2",
   "version": "2.7.6"
  }
 },
 "nbformat": 4,
 "nbformat_minor": 5
}
