{
 "cells": [
  {
   "metadata": {},
   "cell_type": "code",
   "source": [
    "!pip install virtualenv\n",
    "!virtualenv langchain-env\n",
    "!source langchain-env/bin/activate"
   ],
   "id": "4f19f0f486e94f44",
   "outputs": [],
   "execution_count": null
  },
  {
   "metadata": {},
   "cell_type": "code",
   "source": [
    "!pip install langchain\n",
    "!pip install langchain-pinecone\n",
    "!pip install sentence_transformers\n",
    "!pip install tiktoken\n",
    "!pip install GitPython\n",
    "!pip install python-dotenv\n",
    "!pip install langchain_community"
   ],
   "id": "24f0e18dad460bd9",
   "outputs": [],
   "execution_count": null
  },
  {
   "metadata": {},
   "cell_type": "code",
   "source": "## Load env variables (OPENAI_API_KEY, PINECONE_API_KEY)",
   "id": "3054f34e98280aa2",
   "outputs": [],
   "execution_count": null
  },
  {
   "metadata": {},
   "cell_type": "code",
   "source": [
    "import dotenv\n",
    "\n",
    "dotenv.load_dotenv()"
   ],
   "id": "58c6c05252fe1370",
   "outputs": [],
   "execution_count": null
  },
  {
   "metadata": {},
   "cell_type": "code",
   "source": "## Load a repository",
   "id": "11d0600d2fb372c5",
   "outputs": [],
   "execution_count": null
  },
  {
   "metadata": {},
   "cell_type": "code",
   "source": [
    "from git import Repo\n",
    "from langchain_community.document_loaders.generic import GenericLoader\n",
    "from langchain_community.document_loaders.parsers import LanguageParser\n",
    "from langchain_text_splitters import Language"
   ],
   "id": "225f2f5aa5e1cd4a",
   "outputs": [],
   "execution_count": null
  },
  {
   "metadata": {},
   "cell_type": "code",
   "source": [
    "# Clone the repo\n",
    "repo_path = \"./langchain-2/\"\n",
    "#repo = Repo.clone_from(\"https://github.com/langchain-ai/langchain\", to_path=repo_path)\n"
   ],
   "id": "20f97c0edad4e6d7",
   "outputs": [],
   "execution_count": null
  },
  {
   "metadata": {},
   "cell_type": "code",
   "source": [
    "# Load .py files from path using LanguageParser\n",
    "\n",
    "loader = GenericLoader.from_filesystem(\n",
    "    repo_path + \"/libs/core/langchain_core\",\n",
    "    glob=\"**/*\",\n",
    "    suffixes=[\".py\"],\n",
    "    exclude=[\"**/non-utf8-encoding.py\"],\n",
    "    parser=LanguageParser(language=\"python\", parser_threshold=500),\n",
    ")\n",
    "documents = loader.load()\n",
    "len(documents)"
   ],
   "id": "576d5f27d0b5c036",
   "outputs": [],
   "execution_count": null
  },
  {
   "metadata": {},
   "cell_type": "code",
   "source": "!pip install langchain_openai\n",
   "id": "68d3332e69cc3636",
   "outputs": [],
   "execution_count": null
  },
  {
   "metadata": {},
   "cell_type": "code",
   "source": [
    "## Index\n",
    "from langchain_openai import OpenAIEmbeddings\n",
    "from langchain.text_splitter import RecursiveCharacterTextSplitter"
   ],
   "id": "951181640b44a62c",
   "outputs": [],
   "execution_count": null
  },
  {
   "metadata": {},
   "cell_type": "code",
   "source": [
    "python_splitter = RecursiveCharacterTextSplitter.from_language(\n",
    "    language=Language.PYTHON, chunk_size=2000, chunk_overlap=200\n",
    ")\n",
    "texts = python_splitter.split_documents(documents)\n",
    "len(texts)"
   ],
   "id": "28395fa1cc9cdd5a",
   "outputs": [],
   "execution_count": null
  },
  {
   "metadata": {},
   "cell_type": "code",
   "source": "embeddings = OpenAIEmbeddings()",
   "id": "d846e1bbd1618e24",
   "outputs": [],
   "execution_count": null
  },
  {
   "metadata": {},
   "cell_type": "code",
   "source": [
    "# Vector storage\n",
    "from langchain_pinecone import PineconeVectorStore\n",
    "index_name = \"langchain-test-index\"\n",
    "db = PineconeVectorStore.from_documents(texts, embeddings, index_name=index_name)"
   ],
   "id": "dbef02ced9efaf24",
   "outputs": [],
   "execution_count": null
  },
  {
   "metadata": {},
   "cell_type": "code",
   "source": [
    "retriever = db.as_retriever(\n",
    "    search_type=\"mmr\",  # You can also experiment with \"similarity\"\n",
    "    search_kwargs={\"k\": 8},\n",
    ")"
   ],
   "id": "4067016e85683d12",
   "outputs": [],
   "execution_count": null
  },
  {
   "metadata": {},
   "cell_type": "code",
   "source": [
    "from langchain_openai.chat_models import ChatOpenAI\n",
    "from langchain.chains import ConversationalRetrievalChain"
   ],
   "id": "b00fe9aae0c394a7",
   "outputs": [],
   "execution_count": null
  },
  {
   "metadata": {},
   "cell_type": "code",
   "source": "llm = ChatOpenAI(temperature=0)",
   "id": "be7b6784f316a17e",
   "outputs": [],
   "execution_count": null
  },
  {
   "metadata": {},
   "cell_type": "code",
   "source": "qa = ConversationalRetrievalChain.from_llm(llm, retriever)",
   "id": "5b88bca80e69dbac",
   "outputs": [],
   "execution_count": null
  },
  {
   "metadata": {},
   "cell_type": "code",
   "source": "chat_history = []",
   "id": "3883f53f3595f0da",
   "outputs": [],
   "execution_count": null
  },
  {
   "metadata": {},
   "cell_type": "code",
   "source": [
    "question = \"How can I load a source code as documents, for a QA over code, splitting the code in classes and functions?\"\n",
    "result = qa.invoke({\"question\": question, \"chat_history\": chat_history})\n",
    "chat_history.append((question, result[\"answer\"]))\n",
    "print(result[\"answer\"])"
   ],
   "id": "5ab19e0266f4e29f",
   "outputs": [],
   "execution_count": null
  },
  {
   "metadata": {},
   "cell_type": "code",
   "source": "",
   "id": "13466ad07041c728",
   "outputs": [],
   "execution_count": null
  }
 ],
 "metadata": {
  "kernelspec": {
   "display_name": "Python 3",
   "language": "python",
   "name": "python3"
  },
  "language_info": {
   "codemirror_mode": {
    "name": "ipython",
    "version": 2
   },
   "file_extension": ".py",
   "mimetype": "text/x-python",
   "name": "python",
   "nbconvert_exporter": "python",
   "pygments_lexer": "ipython2",
   "version": "2.7.6"
  }
 },
 "nbformat": 4,
 "nbformat_minor": 5
}
